{
 "cells": [
  {
   "cell_type": "code",
   "execution_count": 1,
   "id": "dd1a11fb",
   "metadata": {},
   "outputs": [],
   "source": [
    "import os,sys, re, json, nest_asyncio, asyncio, numpy as np, pandas as pd\n",
    "\n",
    "SRC_DIR = os.path.abspath(os.path.join(os.getcwd(), '..'))\n",
    "if SRC_DIR not in sys.path:\n",
    "    sys.path.insert(0, SRC_DIR)\n",
    "\n",
    "from dotenv import load_dotenv\n",
    "\n",
    "from google import genai\n",
    "from google.genai import types, Client\n",
    "from google.genai.types import EmbedContentConfig\n",
    "from google.cloud import secretmanager, storage,aiplatform\n",
    "\n",
    "from typing import List, Dict, Any, Union, Tuple\n",
    "from pydantic import BaseModel, Field\n",
    "\n",
    "import matplotlib.pyplot as plt\n",
    "import seaborn as sns\n",
    "\n",
    "from langchain_core.documents import Document\n",
    "\n",
    "load_dotenv()\n",
    "\n",
    "\n",
    "\n",
    "LLAMA_PARSE_API_KEY = os.environ.get(\"LLAMA_PARSE_API_KEY\")\n",
    "HF_TOKEN = os.environ.get(\"HUGGINGFACEHUB_API_TOKEN\")\n",
    "\n",
    "PROJECT_ID = os.environ.get(\"PROJECT_ID\")\n",
    "LOCATION = os.environ.get(\"LOCATION\")\n",
    "aiplatform.init(project=PROJECT_ID, location=LOCATION)"
   ]
  },
  {
   "cell_type": "markdown",
   "id": "933c9c1e",
   "metadata": {},
   "source": [
    "# Imports"
   ]
  },
  {
   "cell_type": "code",
   "execution_count": 2,
   "id": "b5bc3dff",
   "metadata": {},
   "outputs": [],
   "source": [
    "from document_processing.keyword_annotator import BM25KeywordAnnotator, TFIDFKeywordAnnotator, QueryProcessor\n",
    "from document_processing import TextDirectoryLoader\n",
    "from indexing.inverted_index import InvertedIndex"
   ]
  },
  {
   "cell_type": "markdown",
   "id": "a0ed52ac",
   "metadata": {},
   "source": [
    "# Document Loaders"
   ]
  },
  {
   "cell_type": "code",
   "execution_count": 29,
   "id": "7e2518bf",
   "metadata": {},
   "outputs": [],
   "source": [
    "loader_bm25 = TextDirectoryLoader(\n",
    "    directory=\"../Data/parsed\",\n",
    "    annotator=BM25KeywordAnnotator({\n",
    "        \"score_threshold\": 1.5,\n",
    "        \"extra_stopwords\": {\"page\", \"pages\", \"figure\"},\n",
    "        \"max_keywords\": 15,\n",
    "    }),\n",
    ") \n",
    "\n",
    "loader_tfidf = TextDirectoryLoader(\n",
    "    directory=\"../Data/parsed\",\n",
    "    annotator=TFIDFKeywordAnnotator({\n",
    "        \"score_threshold\": 1.5,\n",
    "        \"extra_stopwords\": {\"page\", \"pages\", \"figure\"},\n",
    "        \"max_keywords\": 15,\n",
    "    })\n",
    ")\n",
    "\n",
    "all_docs = loader_bm25.load()"
   ]
  },
  {
   "cell_type": "markdown",
   "id": "f0a33813",
   "metadata": {},
   "source": [
    "# Create Inverted Indexes"
   ]
  },
  {
   "cell_type": "code",
   "execution_count": 30,
   "id": "9c184578",
   "metadata": {},
   "outputs": [
    {
     "name": "stdout",
     "output_type": "stream",
     "text": [
      "Building inverted index from scratch...\n",
      "Updating index with 6 new document(s)...\n",
      "Update complete.\n",
      "Index built successfully. Found 2357 unique keywords across 6 files.\n"
     ]
    }
   ],
   "source": [
    "inverted_index = InvertedIndex()\n",
    "inverted_index.build_from_docs(all_docs)"
   ]
  },
  {
   "cell_type": "markdown",
   "id": "82f749a3",
   "metadata": {},
   "source": [
    "# Search the inverted index"
   ]
  },
  {
   "cell_type": "code",
   "execution_count": 43,
   "id": "7a8aacfb",
   "metadata": {},
   "outputs": [
    {
     "name": "stdout",
     "output_type": "stream",
     "text": [
      "Searching for keyword: semi-supervised\n",
      "Processed search term: semi\n",
      "Processed search term: supervised\n",
      "Search results for 'semi-supervised': [('attention-is-all-you-need_cleaned.txt', 9), ('attention-is-all-you-need_cleaned.txt', 10)]\n"
     ]
    }
   ],
   "source": [
    "search_term = \"semi-supervised\"\n",
    "print(f\"Searching for keyword: {search_term}\") \n",
    "QP = QueryProcessor()\n",
    "processed_search_terms = QP.process(query=search_term) \n",
    "Search_Results = []\n",
    "for processed_search_term in processed_search_terms:\n",
    "    if processed_search_term:\n",
    "        print(f\"Processed search term: {processed_search_term}\")\n",
    "        search_results = inverted_index.search(processed_search_term)\n",
    "        Search_Results.extend(search_results)\n",
    "Search_Results = list(set(Search_Results))  # Remove duplicates\n",
    "print(f\"Search results for '{search_term}': {Search_Results}\")"
   ]
  },
  {
   "cell_type": "code",
   "execution_count": 44,
   "id": "fee57141",
   "metadata": {},
   "outputs": [
    {
     "data": {
      "text/plain": [
       "[('attention-is-all-you-need_cleaned.txt', 9),\n",
       " ('attention-is-all-you-need_cleaned.txt', 10)]"
      ]
     },
     "execution_count": 44,
     "metadata": {},
     "output_type": "execute_result"
    }
   ],
   "source": [
    "Search_Results"
   ]
  }
 ],
 "metadata": {
  "kernelspec": {
   "display_name": "agents312",
   "language": "python",
   "name": "python3"
  },
  "language_info": {
   "codemirror_mode": {
    "name": "ipython",
    "version": 3
   },
   "file_extension": ".py",
   "mimetype": "text/x-python",
   "name": "python",
   "nbconvert_exporter": "python",
   "pygments_lexer": "ipython3",
   "version": "3.12.9"
  }
 },
 "nbformat": 4,
 "nbformat_minor": 5
}
